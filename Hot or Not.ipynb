{
  "cells": [
    {
      "cell_type": "code",
      "execution_count": 1,
      "metadata": {
        "colab": {
          "base_uri": "https://localhost:8080/",
          "height": 534
        },
        "id": "Mvp_UC3sX9dP",
        "outputId": "0ac37ea0-e215-4a0c-ce32-1c2f78fd57b5"
      },
      "outputs": [
        {
          "output_type": "stream",
          "name": "stdout",
          "text": [
            "Mounted at /content/drive\n"
          ]
        },
        {
          "output_type": "execute_result",
          "data": {
            "text/plain": [
              "                                                name  is_hot       genre  \\\n",
              "0                           Don't Start Now Dua Lipa       1       dance   \n",
              "1                            MAMIII Becky G, KAROL G       1      reggae   \n",
              "2                         More Than A Woman Bee Gees       1  electronic   \n",
              "3                                     Calm Down Rema       1       latin   \n",
              "4  Ayo Girl (Fayahh Beat) [feat. Rema] Robinson, ...       1      hiphop   \n",
              "\n",
              "        style  popularity  engagement   valence   arousal  danceable  \\\n",
              "0       dance    0.533699    0.806275  5.426029  4.416872   0.978744   \n",
              "1         pop    0.697525    0.714739  5.250370  4.311930   0.884116   \n",
              "2        soul    0.775511    0.839151  5.416806  4.172360   0.978051   \n",
              "3  electronic    0.588689    0.666051  5.269323  4.302434   0.989999   \n",
              "4         rnb    0.685297    0.711811  5.431922  4.295860   0.996658   \n",
              "\n",
              "   not_danceable  ... spectral_contrast_7  spectral_rolloff       tempo  \\\n",
              "0       0.021256  ...           47.508168       5733.425143  123.046875   \n",
              "1       0.115884  ...           46.515226       5100.492213   95.703125   \n",
              "2       0.021949  ...           47.952240       4811.615524  107.666016   \n",
              "3       0.010001  ...           47.629641       4737.569885  143.554688   \n",
              "4       0.003342  ...           47.046475       6217.922652  129.199219   \n",
              "\n",
              "   zero_crossing_rate  tonnetz_1  tonnetz_2  tonnetz_3  tonnetz_4  tonnetz_5  \\\n",
              "0            0.108134   0.135655  -0.035423   0.074641  -0.040866  -0.001042   \n",
              "1            0.108238   0.182400  -0.023066   0.050366   0.023565   0.020355   \n",
              "2            0.098131   0.140643  -0.035769   0.103387   0.058251  -0.005618   \n",
              "3            0.071252  -0.049012  -0.179290   0.180313   0.023707  -0.044212   \n",
              "4            0.108013  -0.190897  -0.107207   0.015708   0.012103  -0.002555   \n",
              "\n",
              "   tonnetz_6  \n",
              "0  -0.023227  \n",
              "1  -0.000741  \n",
              "2   0.007339  \n",
              "3  -0.022441  \n",
              "4  -0.002424  \n",
              "\n",
              "[5 rows x 72 columns]"
            ],
            "text/html": [
              "\n",
              "  <div id=\"df-b867b2c8-806b-4933-8ebd-c02a3fe4cf30\" class=\"colab-df-container\">\n",
              "    <div>\n",
              "<style scoped>\n",
              "    .dataframe tbody tr th:only-of-type {\n",
              "        vertical-align: middle;\n",
              "    }\n",
              "\n",
              "    .dataframe tbody tr th {\n",
              "        vertical-align: top;\n",
              "    }\n",
              "\n",
              "    .dataframe thead th {\n",
              "        text-align: right;\n",
              "    }\n",
              "</style>\n",
              "<table border=\"1\" class=\"dataframe\">\n",
              "  <thead>\n",
              "    <tr style=\"text-align: right;\">\n",
              "      <th></th>\n",
              "      <th>name</th>\n",
              "      <th>is_hot</th>\n",
              "      <th>genre</th>\n",
              "      <th>style</th>\n",
              "      <th>popularity</th>\n",
              "      <th>engagement</th>\n",
              "      <th>valence</th>\n",
              "      <th>arousal</th>\n",
              "      <th>danceable</th>\n",
              "      <th>not_danceable</th>\n",
              "      <th>...</th>\n",
              "      <th>spectral_contrast_7</th>\n",
              "      <th>spectral_rolloff</th>\n",
              "      <th>tempo</th>\n",
              "      <th>zero_crossing_rate</th>\n",
              "      <th>tonnetz_1</th>\n",
              "      <th>tonnetz_2</th>\n",
              "      <th>tonnetz_3</th>\n",
              "      <th>tonnetz_4</th>\n",
              "      <th>tonnetz_5</th>\n",
              "      <th>tonnetz_6</th>\n",
              "    </tr>\n",
              "  </thead>\n",
              "  <tbody>\n",
              "    <tr>\n",
              "      <th>0</th>\n",
              "      <td>Don't Start Now Dua Lipa</td>\n",
              "      <td>1</td>\n",
              "      <td>dance</td>\n",
              "      <td>dance</td>\n",
              "      <td>0.533699</td>\n",
              "      <td>0.806275</td>\n",
              "      <td>5.426029</td>\n",
              "      <td>4.416872</td>\n",
              "      <td>0.978744</td>\n",
              "      <td>0.021256</td>\n",
              "      <td>...</td>\n",
              "      <td>47.508168</td>\n",
              "      <td>5733.425143</td>\n",
              "      <td>123.046875</td>\n",
              "      <td>0.108134</td>\n",
              "      <td>0.135655</td>\n",
              "      <td>-0.035423</td>\n",
              "      <td>0.074641</td>\n",
              "      <td>-0.040866</td>\n",
              "      <td>-0.001042</td>\n",
              "      <td>-0.023227</td>\n",
              "    </tr>\n",
              "    <tr>\n",
              "      <th>1</th>\n",
              "      <td>MAMIII Becky G, KAROL G</td>\n",
              "      <td>1</td>\n",
              "      <td>reggae</td>\n",
              "      <td>pop</td>\n",
              "      <td>0.697525</td>\n",
              "      <td>0.714739</td>\n",
              "      <td>5.250370</td>\n",
              "      <td>4.311930</td>\n",
              "      <td>0.884116</td>\n",
              "      <td>0.115884</td>\n",
              "      <td>...</td>\n",
              "      <td>46.515226</td>\n",
              "      <td>5100.492213</td>\n",
              "      <td>95.703125</td>\n",
              "      <td>0.108238</td>\n",
              "      <td>0.182400</td>\n",
              "      <td>-0.023066</td>\n",
              "      <td>0.050366</td>\n",
              "      <td>0.023565</td>\n",
              "      <td>0.020355</td>\n",
              "      <td>-0.000741</td>\n",
              "    </tr>\n",
              "    <tr>\n",
              "      <th>2</th>\n",
              "      <td>More Than A Woman Bee Gees</td>\n",
              "      <td>1</td>\n",
              "      <td>electronic</td>\n",
              "      <td>soul</td>\n",
              "      <td>0.775511</td>\n",
              "      <td>0.839151</td>\n",
              "      <td>5.416806</td>\n",
              "      <td>4.172360</td>\n",
              "      <td>0.978051</td>\n",
              "      <td>0.021949</td>\n",
              "      <td>...</td>\n",
              "      <td>47.952240</td>\n",
              "      <td>4811.615524</td>\n",
              "      <td>107.666016</td>\n",
              "      <td>0.098131</td>\n",
              "      <td>0.140643</td>\n",
              "      <td>-0.035769</td>\n",
              "      <td>0.103387</td>\n",
              "      <td>0.058251</td>\n",
              "      <td>-0.005618</td>\n",
              "      <td>0.007339</td>\n",
              "    </tr>\n",
              "    <tr>\n",
              "      <th>3</th>\n",
              "      <td>Calm Down Rema</td>\n",
              "      <td>1</td>\n",
              "      <td>latin</td>\n",
              "      <td>electronic</td>\n",
              "      <td>0.588689</td>\n",
              "      <td>0.666051</td>\n",
              "      <td>5.269323</td>\n",
              "      <td>4.302434</td>\n",
              "      <td>0.989999</td>\n",
              "      <td>0.010001</td>\n",
              "      <td>...</td>\n",
              "      <td>47.629641</td>\n",
              "      <td>4737.569885</td>\n",
              "      <td>143.554688</td>\n",
              "      <td>0.071252</td>\n",
              "      <td>-0.049012</td>\n",
              "      <td>-0.179290</td>\n",
              "      <td>0.180313</td>\n",
              "      <td>0.023707</td>\n",
              "      <td>-0.044212</td>\n",
              "      <td>-0.022441</td>\n",
              "    </tr>\n",
              "    <tr>\n",
              "      <th>4</th>\n",
              "      <td>Ayo Girl (Fayahh Beat) [feat. Rema] Robinson, ...</td>\n",
              "      <td>1</td>\n",
              "      <td>hiphop</td>\n",
              "      <td>rnb</td>\n",
              "      <td>0.685297</td>\n",
              "      <td>0.711811</td>\n",
              "      <td>5.431922</td>\n",
              "      <td>4.295860</td>\n",
              "      <td>0.996658</td>\n",
              "      <td>0.003342</td>\n",
              "      <td>...</td>\n",
              "      <td>47.046475</td>\n",
              "      <td>6217.922652</td>\n",
              "      <td>129.199219</td>\n",
              "      <td>0.108013</td>\n",
              "      <td>-0.190897</td>\n",
              "      <td>-0.107207</td>\n",
              "      <td>0.015708</td>\n",
              "      <td>0.012103</td>\n",
              "      <td>-0.002555</td>\n",
              "      <td>-0.002424</td>\n",
              "    </tr>\n",
              "  </tbody>\n",
              "</table>\n",
              "<p>5 rows × 72 columns</p>\n",
              "</div>\n",
              "    <div class=\"colab-df-buttons\">\n",
              "\n",
              "  <div class=\"colab-df-container\">\n",
              "    <button class=\"colab-df-convert\" onclick=\"convertToInteractive('df-b867b2c8-806b-4933-8ebd-c02a3fe4cf30')\"\n",
              "            title=\"Convert this dataframe to an interactive table.\"\n",
              "            style=\"display:none;\">\n",
              "\n",
              "  <svg xmlns=\"http://www.w3.org/2000/svg\" height=\"24px\" viewBox=\"0 -960 960 960\">\n",
              "    <path d=\"M120-120v-720h720v720H120Zm60-500h600v-160H180v160Zm220 220h160v-160H400v160Zm0 220h160v-160H400v160ZM180-400h160v-160H180v160Zm440 0h160v-160H620v160ZM180-180h160v-160H180v160Zm440 0h160v-160H620v160Z\"/>\n",
              "  </svg>\n",
              "    </button>\n",
              "\n",
              "  <style>\n",
              "    .colab-df-container {\n",
              "      display:flex;\n",
              "      gap: 12px;\n",
              "    }\n",
              "\n",
              "    .colab-df-convert {\n",
              "      background-color: #E8F0FE;\n",
              "      border: none;\n",
              "      border-radius: 50%;\n",
              "      cursor: pointer;\n",
              "      display: none;\n",
              "      fill: #1967D2;\n",
              "      height: 32px;\n",
              "      padding: 0 0 0 0;\n",
              "      width: 32px;\n",
              "    }\n",
              "\n",
              "    .colab-df-convert:hover {\n",
              "      background-color: #E2EBFA;\n",
              "      box-shadow: 0px 1px 2px rgba(60, 64, 67, 0.3), 0px 1px 3px 1px rgba(60, 64, 67, 0.15);\n",
              "      fill: #174EA6;\n",
              "    }\n",
              "\n",
              "    .colab-df-buttons div {\n",
              "      margin-bottom: 4px;\n",
              "    }\n",
              "\n",
              "    [theme=dark] .colab-df-convert {\n",
              "      background-color: #3B4455;\n",
              "      fill: #D2E3FC;\n",
              "    }\n",
              "\n",
              "    [theme=dark] .colab-df-convert:hover {\n",
              "      background-color: #434B5C;\n",
              "      box-shadow: 0px 1px 3px 1px rgba(0, 0, 0, 0.15);\n",
              "      filter: drop-shadow(0px 1px 2px rgba(0, 0, 0, 0.3));\n",
              "      fill: #FFFFFF;\n",
              "    }\n",
              "  </style>\n",
              "\n",
              "    <script>\n",
              "      const buttonEl =\n",
              "        document.querySelector('#df-b867b2c8-806b-4933-8ebd-c02a3fe4cf30 button.colab-df-convert');\n",
              "      buttonEl.style.display =\n",
              "        google.colab.kernel.accessAllowed ? 'block' : 'none';\n",
              "\n",
              "      async function convertToInteractive(key) {\n",
              "        const element = document.querySelector('#df-b867b2c8-806b-4933-8ebd-c02a3fe4cf30');\n",
              "        const dataTable =\n",
              "          await google.colab.kernel.invokeFunction('convertToInteractive',\n",
              "                                                    [key], {});\n",
              "        if (!dataTable) return;\n",
              "\n",
              "        const docLinkHtml = 'Like what you see? Visit the ' +\n",
              "          '<a target=\"_blank\" href=https://colab.research.google.com/notebooks/data_table.ipynb>data table notebook</a>'\n",
              "          + ' to learn more about interactive tables.';\n",
              "        element.innerHTML = '';\n",
              "        dataTable['output_type'] = 'display_data';\n",
              "        await google.colab.output.renderOutput(dataTable, element);\n",
              "        const docLink = document.createElement('div');\n",
              "        docLink.innerHTML = docLinkHtml;\n",
              "        element.appendChild(docLink);\n",
              "      }\n",
              "    </script>\n",
              "  </div>\n",
              "\n",
              "\n",
              "<div id=\"df-60d19582-d7cf-49d6-ac87-514f6e9512e3\">\n",
              "  <button class=\"colab-df-quickchart\" onclick=\"quickchart('df-60d19582-d7cf-49d6-ac87-514f6e9512e3')\"\n",
              "            title=\"Suggest charts\"\n",
              "            style=\"display:none;\">\n",
              "\n",
              "<svg xmlns=\"http://www.w3.org/2000/svg\" height=\"24px\"viewBox=\"0 0 24 24\"\n",
              "     width=\"24px\">\n",
              "    <g>\n",
              "        <path d=\"M19 3H5c-1.1 0-2 .9-2 2v14c0 1.1.9 2 2 2h14c1.1 0 2-.9 2-2V5c0-1.1-.9-2-2-2zM9 17H7v-7h2v7zm4 0h-2V7h2v10zm4 0h-2v-4h2v4z\"/>\n",
              "    </g>\n",
              "</svg>\n",
              "  </button>\n",
              "\n",
              "<style>\n",
              "  .colab-df-quickchart {\n",
              "      --bg-color: #E8F0FE;\n",
              "      --fill-color: #1967D2;\n",
              "      --hover-bg-color: #E2EBFA;\n",
              "      --hover-fill-color: #174EA6;\n",
              "      --disabled-fill-color: #AAA;\n",
              "      --disabled-bg-color: #DDD;\n",
              "  }\n",
              "\n",
              "  [theme=dark] .colab-df-quickchart {\n",
              "      --bg-color: #3B4455;\n",
              "      --fill-color: #D2E3FC;\n",
              "      --hover-bg-color: #434B5C;\n",
              "      --hover-fill-color: #FFFFFF;\n",
              "      --disabled-bg-color: #3B4455;\n",
              "      --disabled-fill-color: #666;\n",
              "  }\n",
              "\n",
              "  .colab-df-quickchart {\n",
              "    background-color: var(--bg-color);\n",
              "    border: none;\n",
              "    border-radius: 50%;\n",
              "    cursor: pointer;\n",
              "    display: none;\n",
              "    fill: var(--fill-color);\n",
              "    height: 32px;\n",
              "    padding: 0;\n",
              "    width: 32px;\n",
              "  }\n",
              "\n",
              "  .colab-df-quickchart:hover {\n",
              "    background-color: var(--hover-bg-color);\n",
              "    box-shadow: 0 1px 2px rgba(60, 64, 67, 0.3), 0 1px 3px 1px rgba(60, 64, 67, 0.15);\n",
              "    fill: var(--button-hover-fill-color);\n",
              "  }\n",
              "\n",
              "  .colab-df-quickchart-complete:disabled,\n",
              "  .colab-df-quickchart-complete:disabled:hover {\n",
              "    background-color: var(--disabled-bg-color);\n",
              "    fill: var(--disabled-fill-color);\n",
              "    box-shadow: none;\n",
              "  }\n",
              "\n",
              "  .colab-df-spinner {\n",
              "    border: 2px solid var(--fill-color);\n",
              "    border-color: transparent;\n",
              "    border-bottom-color: var(--fill-color);\n",
              "    animation:\n",
              "      spin 1s steps(1) infinite;\n",
              "  }\n",
              "\n",
              "  @keyframes spin {\n",
              "    0% {\n",
              "      border-color: transparent;\n",
              "      border-bottom-color: var(--fill-color);\n",
              "      border-left-color: var(--fill-color);\n",
              "    }\n",
              "    20% {\n",
              "      border-color: transparent;\n",
              "      border-left-color: var(--fill-color);\n",
              "      border-top-color: var(--fill-color);\n",
              "    }\n",
              "    30% {\n",
              "      border-color: transparent;\n",
              "      border-left-color: var(--fill-color);\n",
              "      border-top-color: var(--fill-color);\n",
              "      border-right-color: var(--fill-color);\n",
              "    }\n",
              "    40% {\n",
              "      border-color: transparent;\n",
              "      border-right-color: var(--fill-color);\n",
              "      border-top-color: var(--fill-color);\n",
              "    }\n",
              "    60% {\n",
              "      border-color: transparent;\n",
              "      border-right-color: var(--fill-color);\n",
              "    }\n",
              "    80% {\n",
              "      border-color: transparent;\n",
              "      border-right-color: var(--fill-color);\n",
              "      border-bottom-color: var(--fill-color);\n",
              "    }\n",
              "    90% {\n",
              "      border-color: transparent;\n",
              "      border-bottom-color: var(--fill-color);\n",
              "    }\n",
              "  }\n",
              "</style>\n",
              "\n",
              "  <script>\n",
              "    async function quickchart(key) {\n",
              "      const quickchartButtonEl =\n",
              "        document.querySelector('#' + key + ' button');\n",
              "      quickchartButtonEl.disabled = true;  // To prevent multiple clicks.\n",
              "      quickchartButtonEl.classList.add('colab-df-spinner');\n",
              "      try {\n",
              "        const charts = await google.colab.kernel.invokeFunction(\n",
              "            'suggestCharts', [key], {});\n",
              "      } catch (error) {\n",
              "        console.error('Error during call to suggestCharts:', error);\n",
              "      }\n",
              "      quickchartButtonEl.classList.remove('colab-df-spinner');\n",
              "      quickchartButtonEl.classList.add('colab-df-quickchart-complete');\n",
              "    }\n",
              "    (() => {\n",
              "      let quickchartButtonEl =\n",
              "        document.querySelector('#df-60d19582-d7cf-49d6-ac87-514f6e9512e3 button');\n",
              "      quickchartButtonEl.style.display =\n",
              "        google.colab.kernel.accessAllowed ? 'block' : 'none';\n",
              "    })();\n",
              "  </script>\n",
              "</div>\n",
              "\n",
              "    </div>\n",
              "  </div>\n"
            ],
            "application/vnd.google.colaboratory.intrinsic+json": {
              "type": "dataframe",
              "variable_name": "df"
            }
          },
          "metadata": {},
          "execution_count": 1
        }
      ],
      "source": [
        "from google.colab import drive\n",
        "\n",
        "drive.mount('/content/drive')\n",
        "file_path = '/content/drive/My Drive/hot_or_not.csv'\n",
        "\n",
        "import pandas as pd\n",
        "\n",
        "df = pd.read_csv(file_path)\n",
        "df.head()"
      ]
    },
    {
      "cell_type": "code",
      "execution_count": 2,
      "metadata": {
        "colab": {
          "base_uri": "https://localhost:8080/"
        },
        "id": "3De1v0ziaQ3y",
        "outputId": "ae9f7ca3-7ac3-46e6-ff09-2080c4036005"
      },
      "outputs": [
        {
          "output_type": "stream",
          "name": "stdout",
          "text": [
            "Requirement already satisfied: xgboost in /usr/local/lib/python3.10/dist-packages (2.1.1)\n",
            "Collecting catboost\n",
            "  Downloading catboost-1.2.5-cp310-cp310-manylinux2014_x86_64.whl.metadata (1.2 kB)\n",
            "Requirement already satisfied: numpy in /usr/local/lib/python3.10/dist-packages (from xgboost) (1.26.4)\n",
            "Collecting nvidia-nccl-cu12 (from xgboost)\n",
            "  Downloading nvidia_nccl_cu12-2.22.3-py3-none-manylinux2014_x86_64.whl.metadata (1.8 kB)\n",
            "Requirement already satisfied: scipy in /usr/local/lib/python3.10/dist-packages (from xgboost) (1.13.1)\n",
            "Requirement already satisfied: graphviz in /usr/local/lib/python3.10/dist-packages (from catboost) (0.20.3)\n",
            "Requirement already satisfied: matplotlib in /usr/local/lib/python3.10/dist-packages (from catboost) (3.7.1)\n",
            "Requirement already satisfied: pandas>=0.24 in /usr/local/lib/python3.10/dist-packages (from catboost) (2.1.4)\n",
            "Requirement already satisfied: plotly in /usr/local/lib/python3.10/dist-packages (from catboost) (5.15.0)\n",
            "Requirement already satisfied: six in /usr/local/lib/python3.10/dist-packages (from catboost) (1.16.0)\n",
            "Requirement already satisfied: python-dateutil>=2.8.2 in /usr/local/lib/python3.10/dist-packages (from pandas>=0.24->catboost) (2.8.2)\n",
            "Requirement already satisfied: pytz>=2020.1 in /usr/local/lib/python3.10/dist-packages (from pandas>=0.24->catboost) (2024.1)\n",
            "Requirement already satisfied: tzdata>=2022.1 in /usr/local/lib/python3.10/dist-packages (from pandas>=0.24->catboost) (2024.1)\n",
            "Requirement already satisfied: contourpy>=1.0.1 in /usr/local/lib/python3.10/dist-packages (from matplotlib->catboost) (1.2.1)\n",
            "Requirement already satisfied: cycler>=0.10 in /usr/local/lib/python3.10/dist-packages (from matplotlib->catboost) (0.12.1)\n",
            "Requirement already satisfied: fonttools>=4.22.0 in /usr/local/lib/python3.10/dist-packages (from matplotlib->catboost) (4.53.1)\n",
            "Requirement already satisfied: kiwisolver>=1.0.1 in /usr/local/lib/python3.10/dist-packages (from matplotlib->catboost) (1.4.5)\n",
            "Requirement already satisfied: packaging>=20.0 in /usr/local/lib/python3.10/dist-packages (from matplotlib->catboost) (24.1)\n",
            "Requirement already satisfied: pillow>=6.2.0 in /usr/local/lib/python3.10/dist-packages (from matplotlib->catboost) (9.4.0)\n",
            "Requirement already satisfied: pyparsing>=2.3.1 in /usr/local/lib/python3.10/dist-packages (from matplotlib->catboost) (3.1.2)\n",
            "Requirement already satisfied: tenacity>=6.2.0 in /usr/local/lib/python3.10/dist-packages (from plotly->catboost) (9.0.0)\n",
            "Downloading catboost-1.2.5-cp310-cp310-manylinux2014_x86_64.whl (98.2 MB)\n",
            "\u001b[2K   \u001b[90m━━━━━━━━━━━━━━━━━━━━━━━━━━━━━━━━━━━━━━━━\u001b[0m \u001b[32m98.2/98.2 MB\u001b[0m \u001b[31m6.9 MB/s\u001b[0m eta \u001b[36m0:00:00\u001b[0m\n",
            "\u001b[?25hDownloading nvidia_nccl_cu12-2.22.3-py3-none-manylinux2014_x86_64.whl (190.9 MB)\n",
            "\u001b[2K   \u001b[90m━━━━━━━━━━━━━━━━━━━━━━━━━━━━━━━━━━━━━━━━\u001b[0m \u001b[32m190.9/190.9 MB\u001b[0m \u001b[31m6.5 MB/s\u001b[0m eta \u001b[36m0:00:00\u001b[0m\n",
            "\u001b[?25hInstalling collected packages: nvidia-nccl-cu12, catboost\n",
            "\u001b[31mERROR: pip's dependency resolver does not currently take into account all the packages that are installed. This behaviour is the source of the following dependency conflicts.\n",
            "torch 2.3.1+cu121 requires nvidia-cublas-cu12==12.1.3.1; platform_system == \"Linux\" and platform_machine == \"x86_64\", which is not installed.\n",
            "torch 2.3.1+cu121 requires nvidia-cuda-cupti-cu12==12.1.105; platform_system == \"Linux\" and platform_machine == \"x86_64\", which is not installed.\n",
            "torch 2.3.1+cu121 requires nvidia-cuda-nvrtc-cu12==12.1.105; platform_system == \"Linux\" and platform_machine == \"x86_64\", which is not installed.\n",
            "torch 2.3.1+cu121 requires nvidia-cuda-runtime-cu12==12.1.105; platform_system == \"Linux\" and platform_machine == \"x86_64\", which is not installed.\n",
            "torch 2.3.1+cu121 requires nvidia-cudnn-cu12==8.9.2.26; platform_system == \"Linux\" and platform_machine == \"x86_64\", which is not installed.\n",
            "torch 2.3.1+cu121 requires nvidia-cufft-cu12==11.0.2.54; platform_system == \"Linux\" and platform_machine == \"x86_64\", which is not installed.\n",
            "torch 2.3.1+cu121 requires nvidia-curand-cu12==10.3.2.106; platform_system == \"Linux\" and platform_machine == \"x86_64\", which is not installed.\n",
            "torch 2.3.1+cu121 requires nvidia-cusolver-cu12==11.4.5.107; platform_system == \"Linux\" and platform_machine == \"x86_64\", which is not installed.\n",
            "torch 2.3.1+cu121 requires nvidia-cusparse-cu12==12.1.0.106; platform_system == \"Linux\" and platform_machine == \"x86_64\", which is not installed.\n",
            "torch 2.3.1+cu121 requires nvidia-nvtx-cu12==12.1.105; platform_system == \"Linux\" and platform_machine == \"x86_64\", which is not installed.\n",
            "torch 2.3.1+cu121 requires nvidia-nccl-cu12==2.20.5; platform_system == \"Linux\" and platform_machine == \"x86_64\", but you have nvidia-nccl-cu12 2.22.3 which is incompatible.\u001b[0m\u001b[31m\n",
            "\u001b[0mSuccessfully installed catboost-1.2.5 nvidia-nccl-cu12-2.22.3\n"
          ]
        }
      ],
      "source": [
        "!pip install xgboost catboost"
      ]
    },
    {
      "cell_type": "code",
      "execution_count": 11,
      "metadata": {
        "id": "IbnDIK6sc39_"
      },
      "outputs": [],
      "source": [
        "import xgboost as xgb\n",
        "from catboost import CatBoostClassifier\n",
        "import pandas as pd\n",
        "from sklearn.model_selection import train_test_split\n",
        "from sklearn.metrics import accuracy_score, classification_report, f1_score\n",
        "from sklearn.ensemble import RandomForestClassifier"
      ]
    },
    {
      "cell_type": "markdown",
      "source": [
        "# classification with Random Forest"
      ],
      "metadata": {
        "id": "tgqnLDCs_R2L"
      }
    },
    {
      "cell_type": "code",
      "source": [
        "df_encoded = pd.get_dummies(df, columns=['genre', 'style','mood_group'])\n",
        "\n",
        "X = df_encoded.drop(['name','is_hot','not_danceable','not_aggressive','not_happy','not_sad','not_relaxing','not_acoustic','not_electronic','male','instrumental','dark'], axis=1)\n",
        "y = df_encoded['is_hot']\n",
        "\n",
        "X_train, X_test, y_train, y_test = train_test_split(X, y, test_size=0.2, random_state=42)\n",
        "\n",
        "random_forest_model = RandomForestClassifier(\n",
        "    n_estimators=100,\n",
        "    max_depth=20,\n",
        "    random_state=42,\n",
        "    verbose=1\n",
        ")\n",
        "\n",
        "random_forest_model.fit(X_train, y_train)"
      ],
      "metadata": {
        "colab": {
          "base_uri": "https://localhost:8080/",
          "height": 93
        },
        "id": "UJeHNKw3_D5n",
        "outputId": "d30f9312-e4c9-4796-b094-5cb15332b963"
      },
      "execution_count": 82,
      "outputs": [
        {
          "output_type": "stream",
          "name": "stderr",
          "text": [
            "[Parallel(n_jobs=1)]: Done  49 tasks      | elapsed:    1.0s\n"
          ]
        },
        {
          "output_type": "execute_result",
          "data": {
            "text/plain": [
              "RandomForestClassifier(max_depth=20, random_state=42, verbose=1)"
            ],
            "text/html": [
              "<style>#sk-container-id-22 {color: black;}#sk-container-id-22 pre{padding: 0;}#sk-container-id-22 div.sk-toggleable {background-color: white;}#sk-container-id-22 label.sk-toggleable__label {cursor: pointer;display: block;width: 100%;margin-bottom: 0;padding: 0.3em;box-sizing: border-box;text-align: center;}#sk-container-id-22 label.sk-toggleable__label-arrow:before {content: \"▸\";float: left;margin-right: 0.25em;color: #696969;}#sk-container-id-22 label.sk-toggleable__label-arrow:hover:before {color: black;}#sk-container-id-22 div.sk-estimator:hover label.sk-toggleable__label-arrow:before {color: black;}#sk-container-id-22 div.sk-toggleable__content {max-height: 0;max-width: 0;overflow: hidden;text-align: left;background-color: #f0f8ff;}#sk-container-id-22 div.sk-toggleable__content pre {margin: 0.2em;color: black;border-radius: 0.25em;background-color: #f0f8ff;}#sk-container-id-22 input.sk-toggleable__control:checked~div.sk-toggleable__content {max-height: 200px;max-width: 100%;overflow: auto;}#sk-container-id-22 input.sk-toggleable__control:checked~label.sk-toggleable__label-arrow:before {content: \"▾\";}#sk-container-id-22 div.sk-estimator input.sk-toggleable__control:checked~label.sk-toggleable__label {background-color: #d4ebff;}#sk-container-id-22 div.sk-label input.sk-toggleable__control:checked~label.sk-toggleable__label {background-color: #d4ebff;}#sk-container-id-22 input.sk-hidden--visually {border: 0;clip: rect(1px 1px 1px 1px);clip: rect(1px, 1px, 1px, 1px);height: 1px;margin: -1px;overflow: hidden;padding: 0;position: absolute;width: 1px;}#sk-container-id-22 div.sk-estimator {font-family: monospace;background-color: #f0f8ff;border: 1px dotted black;border-radius: 0.25em;box-sizing: border-box;margin-bottom: 0.5em;}#sk-container-id-22 div.sk-estimator:hover {background-color: #d4ebff;}#sk-container-id-22 div.sk-parallel-item::after {content: \"\";width: 100%;border-bottom: 1px solid gray;flex-grow: 1;}#sk-container-id-22 div.sk-label:hover label.sk-toggleable__label {background-color: #d4ebff;}#sk-container-id-22 div.sk-serial::before {content: \"\";position: absolute;border-left: 1px solid gray;box-sizing: border-box;top: 0;bottom: 0;left: 50%;z-index: 0;}#sk-container-id-22 div.sk-serial {display: flex;flex-direction: column;align-items: center;background-color: white;padding-right: 0.2em;padding-left: 0.2em;position: relative;}#sk-container-id-22 div.sk-item {position: relative;z-index: 1;}#sk-container-id-22 div.sk-parallel {display: flex;align-items: stretch;justify-content: center;background-color: white;position: relative;}#sk-container-id-22 div.sk-item::before, #sk-container-id-22 div.sk-parallel-item::before {content: \"\";position: absolute;border-left: 1px solid gray;box-sizing: border-box;top: 0;bottom: 0;left: 50%;z-index: -1;}#sk-container-id-22 div.sk-parallel-item {display: flex;flex-direction: column;z-index: 1;position: relative;background-color: white;}#sk-container-id-22 div.sk-parallel-item:first-child::after {align-self: flex-end;width: 50%;}#sk-container-id-22 div.sk-parallel-item:last-child::after {align-self: flex-start;width: 50%;}#sk-container-id-22 div.sk-parallel-item:only-child::after {width: 0;}#sk-container-id-22 div.sk-dashed-wrapped {border: 1px dashed gray;margin: 0 0.4em 0.5em 0.4em;box-sizing: border-box;padding-bottom: 0.4em;background-color: white;}#sk-container-id-22 div.sk-label label {font-family: monospace;font-weight: bold;display: inline-block;line-height: 1.2em;}#sk-container-id-22 div.sk-label-container {text-align: center;}#sk-container-id-22 div.sk-container {/* jupyter's `normalize.less` sets `[hidden] { display: none; }` but bootstrap.min.css set `[hidden] { display: none !important; }` so we also need the `!important` here to be able to override the default hidden behavior on the sphinx rendered scikit-learn.org. See: https://github.com/scikit-learn/scikit-learn/issues/21755 */display: inline-block !important;position: relative;}#sk-container-id-22 div.sk-text-repr-fallback {display: none;}</style><div id=\"sk-container-id-22\" class=\"sk-top-container\"><div class=\"sk-text-repr-fallback\"><pre>RandomForestClassifier(max_depth=20, random_state=42, verbose=1)</pre><b>In a Jupyter environment, please rerun this cell to show the HTML representation or trust the notebook. <br />On GitHub, the HTML representation is unable to render, please try loading this page with nbviewer.org.</b></div><div class=\"sk-container\" hidden><div class=\"sk-item\"><div class=\"sk-estimator sk-toggleable\"><input class=\"sk-toggleable__control sk-hidden--visually\" id=\"sk-estimator-id-22\" type=\"checkbox\" checked><label for=\"sk-estimator-id-22\" class=\"sk-toggleable__label sk-toggleable__label-arrow\">RandomForestClassifier</label><div class=\"sk-toggleable__content\"><pre>RandomForestClassifier(max_depth=20, random_state=42, verbose=1)</pre></div></div></div></div></div>"
            ]
          },
          "metadata": {},
          "execution_count": 82
        }
      ]
    },
    {
      "cell_type": "code",
      "source": [
        "y_pred_random = random_forest_model.predict(X_test)\n",
        "\n",
        "accuracy_xgb = accuracy_score(y_test, y_pred_random)\n",
        "print(f'XGBoost Accuracy: {accuracy_xgb:.2f}')\n",
        "\n",
        "f1_xgb = f1_score(y_test, y_pred_random)\n",
        "print(f'XGBoost F1 Score: {f1_xgb:.2f}')\n",
        "\n",
        "print(classification_report(y_test, y_pred_random))"
      ],
      "metadata": {
        "colab": {
          "base_uri": "https://localhost:8080/"
        },
        "id": "XjFnDWkJ_QT2",
        "outputId": "efc73844-e81f-4601-f9d7-a2232297bc63"
      },
      "execution_count": 83,
      "outputs": [
        {
          "output_type": "stream",
          "name": "stdout",
          "text": [
            "XGBoost Accuracy: 0.83\n",
            "XGBoost F1 Score: 0.46\n",
            "              precision    recall  f1-score   support\n",
            "\n",
            "           0       0.84      0.98      0.90       386\n",
            "           1       0.81      0.32      0.46       109\n",
            "\n",
            "    accuracy                           0.83       495\n",
            "   macro avg       0.83      0.65      0.68       495\n",
            "weighted avg       0.83      0.83      0.80       495\n",
            "\n"
          ]
        },
        {
          "output_type": "stream",
          "name": "stderr",
          "text": [
            "[Parallel(n_jobs=1)]: Done  49 tasks      | elapsed:    0.0s\n"
          ]
        }
      ]
    },
    {
      "cell_type": "markdown",
      "metadata": {
        "id": "rEO3i499KxZy"
      },
      "source": []
    },
    {
      "cell_type": "markdown",
      "metadata": {
        "id": "hMNVsrO-i5_K"
      },
      "source": [
        "# classification with XGBoost"
      ]
    },
    {
      "cell_type": "code",
      "execution_count": 84,
      "metadata": {
        "colab": {
          "base_uri": "https://localhost:8080/",
          "height": 248
        },
        "id": "xYogSTSnhbOZ",
        "outputId": "b7170d38-241a-4e98-f624-eda43d3b6917"
      },
      "outputs": [
        {
          "output_type": "execute_result",
          "data": {
            "text/plain": [
              "XGBClassifier(base_score=None, booster=None, callbacks=None,\n",
              "              colsample_bylevel=None, colsample_bynode=None,\n",
              "              colsample_bytree=None, device=None, early_stopping_rounds=None,\n",
              "              enable_categorical=False, eval_metric=None, feature_types=None,\n",
              "              gamma=None, grow_policy=None, importance_type=None,\n",
              "              interaction_constraints=None, learning_rate=0.05, max_bin=None,\n",
              "              max_cat_threshold=None, max_cat_to_onehot=None,\n",
              "              max_delta_step=None, max_depth=3, max_leaves=None,\n",
              "              min_child_weight=None, missing=nan, monotone_constraints=None,\n",
              "              multi_strategy=None, n_estimators=1000, n_jobs=None,\n",
              "              num_parallel_tree=None, random_state=42, ...)"
            ],
            "text/html": [
              "<style>#sk-container-id-23 {color: black;}#sk-container-id-23 pre{padding: 0;}#sk-container-id-23 div.sk-toggleable {background-color: white;}#sk-container-id-23 label.sk-toggleable__label {cursor: pointer;display: block;width: 100%;margin-bottom: 0;padding: 0.3em;box-sizing: border-box;text-align: center;}#sk-container-id-23 label.sk-toggleable__label-arrow:before {content: \"▸\";float: left;margin-right: 0.25em;color: #696969;}#sk-container-id-23 label.sk-toggleable__label-arrow:hover:before {color: black;}#sk-container-id-23 div.sk-estimator:hover label.sk-toggleable__label-arrow:before {color: black;}#sk-container-id-23 div.sk-toggleable__content {max-height: 0;max-width: 0;overflow: hidden;text-align: left;background-color: #f0f8ff;}#sk-container-id-23 div.sk-toggleable__content pre {margin: 0.2em;color: black;border-radius: 0.25em;background-color: #f0f8ff;}#sk-container-id-23 input.sk-toggleable__control:checked~div.sk-toggleable__content {max-height: 200px;max-width: 100%;overflow: auto;}#sk-container-id-23 input.sk-toggleable__control:checked~label.sk-toggleable__label-arrow:before {content: \"▾\";}#sk-container-id-23 div.sk-estimator input.sk-toggleable__control:checked~label.sk-toggleable__label {background-color: #d4ebff;}#sk-container-id-23 div.sk-label input.sk-toggleable__control:checked~label.sk-toggleable__label {background-color: #d4ebff;}#sk-container-id-23 input.sk-hidden--visually {border: 0;clip: rect(1px 1px 1px 1px);clip: rect(1px, 1px, 1px, 1px);height: 1px;margin: -1px;overflow: hidden;padding: 0;position: absolute;width: 1px;}#sk-container-id-23 div.sk-estimator {font-family: monospace;background-color: #f0f8ff;border: 1px dotted black;border-radius: 0.25em;box-sizing: border-box;margin-bottom: 0.5em;}#sk-container-id-23 div.sk-estimator:hover {background-color: #d4ebff;}#sk-container-id-23 div.sk-parallel-item::after {content: \"\";width: 100%;border-bottom: 1px solid gray;flex-grow: 1;}#sk-container-id-23 div.sk-label:hover label.sk-toggleable__label {background-color: #d4ebff;}#sk-container-id-23 div.sk-serial::before {content: \"\";position: absolute;border-left: 1px solid gray;box-sizing: border-box;top: 0;bottom: 0;left: 50%;z-index: 0;}#sk-container-id-23 div.sk-serial {display: flex;flex-direction: column;align-items: center;background-color: white;padding-right: 0.2em;padding-left: 0.2em;position: relative;}#sk-container-id-23 div.sk-item {position: relative;z-index: 1;}#sk-container-id-23 div.sk-parallel {display: flex;align-items: stretch;justify-content: center;background-color: white;position: relative;}#sk-container-id-23 div.sk-item::before, #sk-container-id-23 div.sk-parallel-item::before {content: \"\";position: absolute;border-left: 1px solid gray;box-sizing: border-box;top: 0;bottom: 0;left: 50%;z-index: -1;}#sk-container-id-23 div.sk-parallel-item {display: flex;flex-direction: column;z-index: 1;position: relative;background-color: white;}#sk-container-id-23 div.sk-parallel-item:first-child::after {align-self: flex-end;width: 50%;}#sk-container-id-23 div.sk-parallel-item:last-child::after {align-self: flex-start;width: 50%;}#sk-container-id-23 div.sk-parallel-item:only-child::after {width: 0;}#sk-container-id-23 div.sk-dashed-wrapped {border: 1px dashed gray;margin: 0 0.4em 0.5em 0.4em;box-sizing: border-box;padding-bottom: 0.4em;background-color: white;}#sk-container-id-23 div.sk-label label {font-family: monospace;font-weight: bold;display: inline-block;line-height: 1.2em;}#sk-container-id-23 div.sk-label-container {text-align: center;}#sk-container-id-23 div.sk-container {/* jupyter's `normalize.less` sets `[hidden] { display: none; }` but bootstrap.min.css set `[hidden] { display: none !important; }` so we also need the `!important` here to be able to override the default hidden behavior on the sphinx rendered scikit-learn.org. See: https://github.com/scikit-learn/scikit-learn/issues/21755 */display: inline-block !important;position: relative;}#sk-container-id-23 div.sk-text-repr-fallback {display: none;}</style><div id=\"sk-container-id-23\" class=\"sk-top-container\"><div class=\"sk-text-repr-fallback\"><pre>XGBClassifier(base_score=None, booster=None, callbacks=None,\n",
              "              colsample_bylevel=None, colsample_bynode=None,\n",
              "              colsample_bytree=None, device=None, early_stopping_rounds=None,\n",
              "              enable_categorical=False, eval_metric=None, feature_types=None,\n",
              "              gamma=None, grow_policy=None, importance_type=None,\n",
              "              interaction_constraints=None, learning_rate=0.05, max_bin=None,\n",
              "              max_cat_threshold=None, max_cat_to_onehot=None,\n",
              "              max_delta_step=None, max_depth=3, max_leaves=None,\n",
              "              min_child_weight=None, missing=nan, monotone_constraints=None,\n",
              "              multi_strategy=None, n_estimators=1000, n_jobs=None,\n",
              "              num_parallel_tree=None, random_state=42, ...)</pre><b>In a Jupyter environment, please rerun this cell to show the HTML representation or trust the notebook. <br />On GitHub, the HTML representation is unable to render, please try loading this page with nbviewer.org.</b></div><div class=\"sk-container\" hidden><div class=\"sk-item\"><div class=\"sk-estimator sk-toggleable\"><input class=\"sk-toggleable__control sk-hidden--visually\" id=\"sk-estimator-id-23\" type=\"checkbox\" checked><label for=\"sk-estimator-id-23\" class=\"sk-toggleable__label sk-toggleable__label-arrow\">XGBClassifier</label><div class=\"sk-toggleable__content\"><pre>XGBClassifier(base_score=None, booster=None, callbacks=None,\n",
              "              colsample_bylevel=None, colsample_bynode=None,\n",
              "              colsample_bytree=None, device=None, early_stopping_rounds=None,\n",
              "              enable_categorical=False, eval_metric=None, feature_types=None,\n",
              "              gamma=None, grow_policy=None, importance_type=None,\n",
              "              interaction_constraints=None, learning_rate=0.05, max_bin=None,\n",
              "              max_cat_threshold=None, max_cat_to_onehot=None,\n",
              "              max_delta_step=None, max_depth=3, max_leaves=None,\n",
              "              min_child_weight=None, missing=nan, monotone_constraints=None,\n",
              "              multi_strategy=None, n_estimators=1000, n_jobs=None,\n",
              "              num_parallel_tree=None, random_state=42, ...)</pre></div></div></div></div></div>"
            ]
          },
          "metadata": {},
          "execution_count": 84
        }
      ],
      "source": [
        "df_encoded = pd.get_dummies(df, columns=['genre', 'style','mood_group'])\n",
        "\n",
        "X = df_encoded.drop(['name','is_hot','not_danceable','not_aggressive','not_happy','not_sad','not_relaxing','not_acoustic','not_electronic','male','instrumental','dark'], axis=1)\n",
        "y = df_encoded['is_hot']\n",
        "\n",
        "X_train, X_test, y_train, y_test = train_test_split(X, y, test_size=0.2, random_state=42)\n",
        "\n",
        "model_xgb = xgb.XGBClassifier(\n",
        "    n_estimators=1000,\n",
        "    learning_rate=0.05,\n",
        "    max_depth=3,\n",
        "    random_state=42,\n",
        "    scale_pos_weight=4\n",
        ")\n",
        "model_xgb.fit(X_train, y_train)"
      ]
    },
    {
      "cell_type": "code",
      "execution_count": 85,
      "metadata": {
        "colab": {
          "base_uri": "https://localhost:8080/"
        },
        "id": "49GP42LWi5Jq",
        "outputId": "4afe95f4-2881-4858-9b02-33ba9028d1d7"
      },
      "outputs": [
        {
          "output_type": "stream",
          "name": "stdout",
          "text": [
            "XGBoost Accuracy: 0.85\n",
            "XGBoost F1 Score: 0.63\n",
            "              precision    recall  f1-score   support\n",
            "\n",
            "           0       0.89      0.92      0.90       386\n",
            "           1       0.67      0.60      0.63       109\n",
            "\n",
            "    accuracy                           0.85       495\n",
            "   macro avg       0.78      0.76      0.77       495\n",
            "weighted avg       0.84      0.85      0.84       495\n",
            "\n"
          ]
        }
      ],
      "source": [
        "y_pred_xgb = model_xgb.predict(X_test)\n",
        "\n",
        "accuracy_xgb = accuracy_score(y_test, y_pred_xgb)\n",
        "print(f'XGBoost Accuracy: {accuracy_xgb:.2f}')\n",
        "\n",
        "f1_xgb = f1_score(y_test, y_pred_xgb)\n",
        "print(f'XGBoost F1 Score: {f1_xgb:.2f}')\n",
        "\n",
        "print(classification_report(y_test, y_pred_xgb))"
      ]
    },
    {
      "cell_type": "markdown",
      "metadata": {
        "id": "M2XfcDnjjHaB"
      },
      "source": [
        "# classification with CatBoost"
      ]
    },
    {
      "cell_type": "code",
      "execution_count": 87,
      "metadata": {
        "colab": {
          "base_uri": "https://localhost:8080/"
        },
        "id": "-t3a9LMCjJn7",
        "outputId": "3edf79b1-d033-451d-8a35-f35b1db4350f"
      },
      "outputs": [
        {
          "output_type": "stream",
          "name": "stdout",
          "text": [
            "0:\tlearn: 0.6883031\ttotal: 16.1ms\tremaining: 40.3s\n",
            "500:\tlearn: 0.3196651\ttotal: 4.48s\tremaining: 17.9s\n",
            "1000:\tlearn: 0.2657647\ttotal: 9.01s\tremaining: 13.5s\n",
            "1500:\tlearn: 0.2189226\ttotal: 13.7s\tremaining: 9.13s\n",
            "2000:\tlearn: 0.1849499\ttotal: 16.9s\tremaining: 4.22s\n",
            "2499:\tlearn: 0.1587243\ttotal: 20.2s\tremaining: 0us\n"
          ]
        },
        {
          "output_type": "execute_result",
          "data": {
            "text/plain": [
              "<catboost.core.CatBoostClassifier at 0x7931d04a67a0>"
            ]
          },
          "metadata": {},
          "execution_count": 87
        }
      ],
      "source": [
        "X = df.drop(['name','is_hot','not_danceable','not_aggressive','not_happy','not_sad','not_relaxing','not_acoustic','not_electronic','male','instrumental','dark'], axis=1)\n",
        "y = df['is_hot']\n",
        "\n",
        "X_train, X_test, y_train, y_test = train_test_split(X, y, test_size=0.2, random_state=42)\n",
        "\n",
        "\n",
        "cat_features = ['genre', 'style','mood_group']\n",
        "\n",
        "model_cat = CatBoostClassifier(\n",
        "    iterations=2500,\n",
        "    learning_rate=0.01,\n",
        "    depth=3,\n",
        "    verbose=500,  # Controls how much information CatBoost prints during training\n",
        ")\n",
        "\n",
        "model_cat.fit(X_train, y_train, cat_features=cat_features)"
      ]
    },
    {
      "cell_type": "code",
      "source": [
        "# Get feature importance\n",
        "feature_importances = model_cat.get_feature_importance()\n",
        "\n",
        "# Combine feature names and their importances\n",
        "feature_importance_list = list(zip(X.columns, feature_importances))\n",
        "\n",
        "# Sort the list by importance in descending order\n",
        "feature_importance_list.sort(key=lambda x: x[1], reverse=True)\n",
        "\n",
        "# Print out the sorted feature importances\n",
        "for feature_name, importance in feature_importance_list:\n",
        "    print(f\"Feature: {feature_name}, Importance: {importance}\")"
      ],
      "metadata": {
        "colab": {
          "base_uri": "https://localhost:8080/"
        },
        "collapsed": true,
        "id": "77D7lbAB0_Jk",
        "outputId": "7efb94ef-0b82-4bce-d3d4-995420f036ab"
      },
      "execution_count": 88,
      "outputs": [
        {
          "output_type": "stream",
          "name": "stdout",
          "text": [
            "Feature: vocal, Importance: 10.648377946937956\n",
            "Feature: mfcc_4, Importance: 6.208088217425424\n",
            "Feature: aggressive, Importance: 4.9300769519188234\n",
            "Feature: mfcc_3, Importance: 4.875715094468191\n",
            "Feature: happy, Importance: 3.9224022694228764\n",
            "Feature: mood_group, Importance: 3.860773420754513\n",
            "Feature: genre, Importance: 3.6535355002171745\n",
            "Feature: spectral_contrast_1, Importance: 3.6368263980375737\n",
            "Feature: bright, Importance: 3.2534204330193552\n",
            "Feature: engagement, Importance: 3.1403141542129758\n",
            "Feature: female, Importance: 2.9593185455703823\n",
            "Feature: spectral_contrast_6, Importance: 2.9143784449865184\n",
            "Feature: popularity, Importance: 2.844092091342122\n",
            "Feature: electronic, Importance: 2.560163050811614\n",
            "Feature: spectral_contrast_4, Importance: 1.974820071813095\n",
            "Feature: spectral_contrast_7, Importance: 1.9581085158630431\n",
            "Feature: relaxing, Importance: 1.8486534618911494\n",
            "Feature: mfcc_10, Importance: 1.8118131832300624\n",
            "Feature: style, Importance: 1.7885901849718213\n",
            "Feature: tonnetz_3, Importance: 1.753476454802437\n",
            "Feature: acoustic, Importance: 1.7360565465612467\n",
            "Feature: danceable, Importance: 1.653218596190487\n",
            "Feature: valence, Importance: 1.6444671019182757\n",
            "Feature: mfcc_12, Importance: 1.561676357060778\n",
            "Feature: zero_crossing_rate, Importance: 1.4162965420741513\n",
            "Feature: mfcc_9, Importance: 1.308465812428927\n",
            "Feature: mfcc_11, Importance: 1.3040446958866112\n",
            "Feature: mfcc_5, Importance: 1.118069275548925\n",
            "Feature: sad, Importance: 1.1014846962744975\n",
            "Feature: tonnetz_2, Importance: 1.055044845354168\n",
            "Feature: chroma_1, Importance: 1.028388298938317\n",
            "Feature: tempo, Importance: 0.8925533117647545\n",
            "Feature: mfcc_1, Importance: 0.8717273256407667\n",
            "Feature: spectral_contrast_2, Importance: 0.8382567121135891\n",
            "Feature: spectral_contrast_5, Importance: 0.738906141720723\n",
            "Feature: mfcc_6, Importance: 0.7290048780719874\n",
            "Feature: tonnetz_4, Importance: 0.7015180639492695\n",
            "Feature: chroma_9, Importance: 0.6582850362743619\n",
            "Feature: mfcc_13, Importance: 0.6526498520623252\n",
            "Feature: chroma_7, Importance: 0.5924605824891486\n",
            "Feature: tonnetz_5, Importance: 0.5583610606550029\n",
            "Feature: mfcc_2, Importance: 0.5522513261637756\n",
            "Feature: tonnetz_1, Importance: 0.519993872841346\n",
            "Feature: chroma_4, Importance: 0.5165204094442961\n",
            "Feature: spectral_centroid, Importance: 0.5045465226113631\n",
            "Feature: tonnetz_6, Importance: 0.502993594100773\n",
            "Feature: arousal, Importance: 0.48947886482005887\n",
            "Feature: chroma_5, Importance: 0.46427582228924985\n",
            "Feature: spectral_bandwidth, Importance: 0.46124790498118806\n",
            "Feature: chroma_10, Importance: 0.44140069048916264\n",
            "Feature: mfcc_8, Importance: 0.43618746264968766\n",
            "Feature: chroma_12, Importance: 0.41787380648622224\n",
            "Feature: mfcc_7, Importance: 0.4073813595786452\n",
            "Feature: chroma_11, Importance: 0.3649327297908863\n",
            "Feature: chroma_2, Importance: 0.32532501475482084\n",
            "Feature: chroma_6, Importance: 0.25320017003407325\n",
            "Feature: spectral_contrast_3, Importance: 0.21527893956901145\n",
            "Feature: spectral_rolloff, Importance: 0.16750012064160338\n",
            "Feature: chroma_8, Importance: 0.1674662433164472\n",
            "Feature: chroma_3, Importance: 0.08826502076198285\n"
          ]
        }
      ]
    },
    {
      "cell_type": "code",
      "execution_count": 89,
      "metadata": {
        "colab": {
          "base_uri": "https://localhost:8080/"
        },
        "id": "AUkhMA8DjMWs",
        "outputId": "83a89953-623e-4797-f47c-b68e335edfab"
      },
      "outputs": [
        {
          "output_type": "stream",
          "name": "stdout",
          "text": [
            "CatBoost Accuracy: 0.86\n",
            "CatBoost F1 Score: 0.61\n",
            "              precision    recall  f1-score   support\n",
            "\n",
            "           0       0.87      0.96      0.91       386\n",
            "           1       0.78      0.50      0.61       109\n",
            "\n",
            "    accuracy                           0.86       495\n",
            "   macro avg       0.83      0.73      0.76       495\n",
            "weighted avg       0.85      0.86      0.85       495\n",
            "\n"
          ]
        }
      ],
      "source": [
        "y_pred_cat = model_cat.predict(X_test)\n",
        "\n",
        "# Calculate accuracy\n",
        "accuracy_cat = accuracy_score(y_test, y_pred_cat)\n",
        "print(f'CatBoost Accuracy: {accuracy_cat:.2f}')\n",
        "\n",
        "# Calculate F1 score\n",
        "f1_cat = f1_score(y_test, y_pred_cat)\n",
        "print(f'CatBoost F1 Score: {f1_cat:.2f}')\n",
        "\n",
        "# Detailed classification report\n",
        "print(classification_report(y_test, y_pred_cat))"
      ]
    },
    {
      "cell_type": "markdown",
      "source": [
        "# Ensemble"
      ],
      "metadata": {
        "id": "Jd1KaJ0cBLp-"
      }
    },
    {
      "cell_type": "code",
      "source": [
        "import numpy as np\n",
        "# Combine the predictions\n",
        "y_pred = np.zeros_like(y_pred_random)\n",
        "# Weighted voting strategy: more weight to CatBoost for Class 1\n",
        "for i in range(len(y_pred_random)):\n",
        "    votes = y_pred_random[i] + y_pred_xgb[i] + y_pred_cat[i]\n",
        "    if votes >= 1:  # If someone predicts 1\n",
        "        y_pred[i] = 1\n",
        "    else:\n",
        "        y_pred[i] = 0\n",
        "\n",
        "# Calculate accuracy\n",
        "accuracy_cat = accuracy_score(y_test, y_pred)\n",
        "print(f'Accuracy: {accuracy_cat:.2f}')\n",
        "\n",
        "# Calculate F1 score\n",
        "f1_cat = f1_score(y_test, y_pred)\n",
        "print(f'F1 Score: {f1_cat:.2f}')\n",
        "\n",
        "# Detailed classification report\n",
        "print(classification_report(y_test, y_pred))"
      ],
      "metadata": {
        "colab": {
          "base_uri": "https://localhost:8080/"
        },
        "id": "5riX9MEKBLNB",
        "outputId": "6daaea3c-a33b-410b-ec65-21644656d492"
      },
      "execution_count": 91,
      "outputs": [
        {
          "output_type": "stream",
          "name": "stdout",
          "text": [
            "Accuracy: 0.85\n",
            "F1 Score: 0.64\n",
            "              precision    recall  f1-score   support\n",
            "\n",
            "           0       0.90      0.91      0.90       386\n",
            "           1       0.66      0.62      0.64       109\n",
            "\n",
            "    accuracy                           0.85       495\n",
            "   macro avg       0.78      0.77      0.77       495\n",
            "weighted avg       0.84      0.85      0.84       495\n",
            "\n"
          ]
        }
      ]
    },
    {
      "cell_type": "markdown",
      "metadata": {
        "id": "tlEBAJ65jtiV"
      },
      "source": [
        "# download the models"
      ]
    },
    {
      "cell_type": "code",
      "execution_count": 92,
      "metadata": {
        "id": "sDmWodM3jvMk",
        "colab": {
          "base_uri": "https://localhost:8080/"
        },
        "outputId": "cbfedf7c-7e5a-454f-a482-740d78c9d9ec"
      },
      "outputs": [
        {
          "output_type": "execute_result",
          "data": {
            "text/plain": [
              "['catboost_model.pkl']"
            ]
          },
          "metadata": {},
          "execution_count": 92
        }
      ],
      "source": [
        "import joblib\n",
        "joblib.dump(random_forest_model, 'random_forest_model.pkl')\n",
        "joblib.dump(model_xgb, 'xgboost_model.pkl')\n",
        "joblib.dump(model_cat, 'catboost_model.pkl')"
      ]
    }
  ],
  "metadata": {
    "colab": {
      "provenance": []
    },
    "kernelspec": {
      "display_name": "Python 3",
      "name": "python3"
    },
    "language_info": {
      "name": "python"
    }
  },
  "nbformat": 4,
  "nbformat_minor": 0
}